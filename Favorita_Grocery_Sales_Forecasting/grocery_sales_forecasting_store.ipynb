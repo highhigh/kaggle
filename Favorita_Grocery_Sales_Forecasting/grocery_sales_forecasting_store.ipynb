{
 "cells": [
  {
   "cell_type": "markdown",
   "metadata": {},
   "source": [
    "# grocery_sales_forecasting_storewise"
   ]
  },
  {
   "cell_type": "markdown",
   "metadata": {},
   "source": [
    "This baseline model is non-parametric. This model is simply average of history sale (from 2013 to 2016 of the same day.)"
   ]
  },
  {
   "cell_type": "code",
   "execution_count": 1,
   "metadata": {
    "collapsed": true
   },
   "outputs": [],
   "source": [
    "# Import libraries necessary for this project\n",
    "import os\n",
    "import pickle\n",
    "import numpy as np\n",
    "import pandas as pd\n",
    "from sklearn.model_selection import ShuffleSplit\n",
    "from sklearn.model_selection import train_test_split\n",
    "from IPython.display import display\n",
    "import matplotlib.pyplot as plt\n",
    "import datetime as dt\n",
    "from time import time\n",
    "import sys\n",
    "\n",
    "types = {'id': 'int32', 'item_nbr': 'int32', 'store_nbr': 'int8', 'onpromotion': bool}\n",
    "\n",
    "%matplotlib inline"
   ]
  },
  {
   "cell_type": "markdown",
   "metadata": {},
   "source": [
    "## import data"
   ]
  },
  {
   "cell_type": "markdown",
   "metadata": {},
   "source": [
    "There are 19 items appear in training data, but not in testing data; 68 items appear only testing data, not in training data."
   ]
  },
  {
   "cell_type": "code",
   "execution_count": 2,
   "metadata": {
    "collapsed": true
   },
   "outputs": [],
   "source": [
    "# from sklearn.preprocessing import OneHotEncoder\n",
    "def pre_process(feature_raw):\n",
    "\n",
    "    items = pd.read_csv(\"input/items.csv\", dtype={'perishable': np.dtype('int8')})\n",
    "    feature_raw= pd.merge(feature_raw,items, right_on='item_nbr',left_on='item_nbr',how='left')\n",
    "    \n",
    "#     oil = pd.read_csv(\"input/oil.csv\")\n",
    "#     oil.fillna(method ='bfll', inplace = True)\n",
    "#     oil['dcoilwtico'] = oil['dcoilwtico'].apply(np.log1p)\n",
    "#     feature_raw= pd.merge(feature_raw,oil, right_on='date',left_on='date',how='left')\n",
    "    \n",
    "    feature_raw['onpromotion'].fillna(False, inplace = True)\n",
    "    feature_raw['onpromotion'] = feature_raw['onpromotion'].map({False : 0, True : 1})\n",
    "    feature_raw['onpromotion'] = feature_raw['onpromotion'].astype('int8')\n",
    "\n",
    "    # holidays_events = pd.read_csv(\"input/holidays_events.csv\")\n",
    "    # train_data= pd.merge(train_data,stores, right_on='date',left_on='date',how='left')\n",
    "    # display(train_data.tail(5))\n",
    "    \n",
    "    feature_raw['day_of_week'] = feature_raw['date'].dt.weekday_name\n",
    "#     display(feature_raw.dtypes)\n",
    "\n",
    "    if feature_raw.isnull().values.any():\n",
    "        print(\"There is NaN before one-hot-encoding!\")\n",
    "    else:\n",
    "        print(\"There is no NaN before one-hot-encoding\")\n",
    "    feature_raw.drop(['date', 'store_nbr'], axis = 1, inplace = True)\n",
    "    \n",
    "#     display(feature_raw.head(5))\n",
    "    feature_one_hot_coded = pd.get_dummies(feature_raw, columns = ['item_nbr', 'family', 'class', 'day_of_week'])\n",
    "\n",
    "    if feature_one_hot_coded.isnull().values.any():\n",
    "        print(\"There is NaN after one-hot-encoding!\")\n",
    "    else:\n",
    "        print(\"There is no NaN after one-hot-encoding\")\n",
    "        \n",
    "    return feature_one_hot_coded"
   ]
  },
  {
   "cell_type": "code",
   "execution_count": 3,
   "metadata": {
    "collapsed": true
   },
   "outputs": [],
   "source": [
    "def load_data(store):\n",
    "    filename_train = 'train_store_' + str(store) + '.csv'\n",
    "    train_data_raw = pd.read_csv('input_each_store/' + filename_train, usecols = [1,2,3,4,5],\n",
    "                                 parse_dates=['date'], dtype=types, \n",
    "                                 infer_datetime_format = True,\n",
    "                                 converters={'unit_sales':lambda u: float(u) if float(u)>0 else 0},)\n",
    "    print(\"Raw training data has {} samples with {} features each.\".format(*train_data_raw.shape))\n",
    "#     display(train_data_raw.head(5))\n",
    "    \n",
    "    filename_test = 'test_store_' + str(store) + '.csv'\n",
    "    test_data_raw = pd.read_csv('input_each_store/' + filename_test, usecols=[1,2,3,4], parse_dates=['date'], dtype=types)\n",
    "    print(\"Public testing data has {} samples with {} features each.\".format(*test_data_raw.shape))\n",
    "#     display(test_data_raw.head(5))\n",
    "    \n",
    "    uitem_train = set(train_data_raw.item_nbr.unique())\n",
    "    uitem_test = set(test_data_raw.item_nbr.unique())\n",
    "    items_trained = uitem_train.intersection(uitem_test)\n",
    "    \n",
    "    train_data = train_data_raw.loc[train_data_raw['item_nbr'].isin(items_trained)].copy()\n",
    "    print(\"Training data has {} samples after droping unuseful items.\".format(train_data.shape[0]))\n",
    "    \n",
    "    unit_sales = train_data['unit_sales'].apply(np.log1p).values\n",
    "    train_data.drop('unit_sales', axis = 1, inplace=True)\n",
    "    train_processed = pre_process(train_data)\n",
    "    \n",
    "    return [train_processed, unit_sales, items_trained]"
   ]
  },
  {
   "cell_type": "markdown",
   "metadata": {},
   "source": [
    "Evaluation metric: Normalized Weighted Root Mean Squared Logarithmic Error (NWRMSLE)"
   ]
  },
  {
   "cell_type": "code",
   "execution_count": 4,
   "metadata": {
    "collapsed": true
   },
   "outputs": [],
   "source": [
    "from sklearn import metrics\n",
    "def nwrmsle(ground_truth, predictions, w):\n",
    "    return metrics.mean_squared_error(ground_truth, predictions, sample_weight=w)**0.5\n",
    "# metrics.nwrmsle_scorer = make_scorer(score_func=nwrmsle, greater_is_better=False, w = [])\n"
   ]
  },
  {
   "cell_type": "code",
   "execution_count": 5,
   "metadata": {
    "collapsed": true
   },
   "outputs": [],
   "source": [
    "def train_predict(learner, X_train, y_train, X_test, y_test):\n",
    "    results = dict()\n",
    "    start = time()\n",
    "    sample_size=X_train.shape[0]\n",
    "    learner.fit(X_train[:sample_size], y_train[:sample_size])\n",
    "    results['train_time'] = time() - start\n",
    "    \n",
    "    start = time()\n",
    "    predictions_temp = learner.predict(X_test)\n",
    "    predictions = [x if x>=0 else 0 for x in predictions_temp]\n",
    "    results['test_time'] = time() - start\n",
    "    results['learner'] = learner\n",
    "    \n",
    "    w = X_test['perishable'].apply(lambda x: 1.25 if x else 1).values.ravel()\n",
    "    results['score'] = nwrmsle(y_test.flatten(), predictions, w = w)\n",
    "    return results"
   ]
  },
  {
   "cell_type": "markdown",
   "metadata": {},
   "source": [
    "## DecisionTreeRegressor"
   ]
  },
  {
   "cell_type": "code",
   "execution_count": 6,
   "metadata": {
    "collapsed": true
   },
   "outputs": [],
   "source": [
    "def predict_submission(model, columns, store, items_trained):\n",
    "    filename_test = 'test_store_' + str(store) + '.csv'\n",
    "    test_data_raw = pd.read_csv('input_each_store/' + filename_test, usecols=[0,1,2,3,4], parse_dates=['date'], dtype=types)\n",
    "    \n",
    "    test_data = test_data_raw.loc[test_data_raw['item_nbr'].isin(items_trained)].copy()\n",
    "    test_data.drop('id', axis = 1, inplace=True)\n",
    "    \n",
    "    test_one_hot_encoded = pre_process(test_data)\n",
    "    test_processed = pd.DataFrame(0, index = range(test_data.shape[0]), columns=columns, dtype=np.dtype('int8'))\n",
    "    test_processed[test_one_hot_encoded.columns] = test_one_hot_encoded\n",
    "#     print(test_processed.isnull().values.any())\n",
    "    predictions = model.predict(test_processed)\n",
    "    test_data['unit_sales'] = [np.expm1(p) for p in predictions]\n",
    "    \n",
    "    test_store= pd.merge(test_data_raw, test_data, left_on=['date','item_nbr', 'onpromotion'],\n",
    "                      right_on=['date','item_nbr', 'onpromotion'],how='left')[['id', 'unit_sales']]\n",
    "    test_store.fillna(0, inplace=True)\n",
    "    return test_store.set_index(['id'])"
   ]
  },
  {
   "cell_type": "code",
   "execution_count": 9,
   "metadata": {},
   "outputs": [
    {
     "name": "stdout",
     "output_type": "stream",
     "text": [
      "Store 1:\n",
      "Raw training data has 1702008 samples with 5 features each.\n",
      "Public testing data has 62416 samples with 4 features each.\n",
      "Training data has 1639533 samples after droping unuseful items.\n",
      "There is no NaN before one-hot-encoding\n",
      "There is no NaN after one-hot-encoding\n",
      "Processed training set has 1639533 samples with 3717 variables.\n"
     ]
    },
    {
     "data": {
      "text/html": [
       "<div>\n",
       "<style>\n",
       "    .dataframe thead tr:only-child th {\n",
       "        text-align: right;\n",
       "    }\n",
       "\n",
       "    .dataframe thead th {\n",
       "        text-align: left;\n",
       "    }\n",
       "\n",
       "    .dataframe tbody tr th {\n",
       "        vertical-align: top;\n",
       "    }\n",
       "</style>\n",
       "<table border=\"1\" class=\"dataframe\">\n",
       "  <thead>\n",
       "    <tr style=\"text-align: right;\">\n",
       "      <th></th>\n",
       "      <th>date</th>\n",
       "      <th>store_nbr</th>\n",
       "      <th>item_nbr</th>\n",
       "      <th>onpromotion</th>\n",
       "    </tr>\n",
       "  </thead>\n",
       "  <tbody>\n",
       "    <tr>\n",
       "      <th>0</th>\n",
       "      <td>2017-08-16</td>\n",
       "      <td>1</td>\n",
       "      <td>96995</td>\n",
       "      <td>False</td>\n",
       "    </tr>\n",
       "    <tr>\n",
       "      <th>1</th>\n",
       "      <td>2017-08-16</td>\n",
       "      <td>1</td>\n",
       "      <td>99197</td>\n",
       "      <td>False</td>\n",
       "    </tr>\n",
       "    <tr>\n",
       "      <th>3</th>\n",
       "      <td>2017-08-16</td>\n",
       "      <td>1</td>\n",
       "      <td>103520</td>\n",
       "      <td>False</td>\n",
       "    </tr>\n",
       "    <tr>\n",
       "      <th>4</th>\n",
       "      <td>2017-08-16</td>\n",
       "      <td>1</td>\n",
       "      <td>103665</td>\n",
       "      <td>False</td>\n",
       "    </tr>\n",
       "    <tr>\n",
       "      <th>5</th>\n",
       "      <td>2017-08-16</td>\n",
       "      <td>1</td>\n",
       "      <td>105574</td>\n",
       "      <td>False</td>\n",
       "    </tr>\n",
       "  </tbody>\n",
       "</table>\n",
       "</div>"
      ],
      "text/plain": [
       "        date  store_nbr  item_nbr  onpromotion\n",
       "0 2017-08-16          1     96995        False\n",
       "1 2017-08-16          1     99197        False\n",
       "3 2017-08-16          1    103520        False\n",
       "4 2017-08-16          1    103665        False\n",
       "5 2017-08-16          1    105574        False"
      ]
     },
     "metadata": {},
     "output_type": "display_data"
    },
    {
     "name": "stdout",
     "output_type": "stream",
     "text": [
      "There is no NaN before one-hot-encoding\n",
      "There is no NaN after one-hot-encoding\n"
     ]
    }
   ],
   "source": [
    "from sklearn.tree import DecisionTreeRegressor\n",
    "from sklearn import linear_model\n",
    "from sklearn.ensemble import GradientBoostingRegressor\n",
    "\n",
    "results = {}\n",
    "store_list = range(1,55)\n",
    "predictions = pd.DataFrame(0, index = range(125497040, 128867504), columns = ['unit_sales'])\n",
    "predictions.index.name = 'id'\n",
    "\n",
    "regressor_A = DecisionTreeRegressor(random_state = 36, max_depth = 50)\n",
    "regressor_B = linear_model.LinearRegression()\n",
    "params = {'n_estimators': 500, 'max_depth': 4, 'min_samples_split':2, 'learning_rate': 0.01}\n",
    "regressor_C = GradientBoostingRegressor(**params)\n",
    "\n",
    "regressor = regressor_A\n",
    "reg_name = regressor.__class__.__name__\n",
    "\n",
    "file_submission_temp = reg_name + dt.datetime.today().strftime(\"%Y-%m-%d\") + '_temp.csv'\n",
    "file_submission = reg_name + dt.datetime.today().strftime(\"%Y-%m-%d\") + '.csv'\n",
    "\n",
    "for store in store_list:\n",
    "    print(\"------------------------------\")\n",
    "    print(\"Store {}:\".format(store))\n",
    "    train_processed, unit_sales, items_trained = load_data(store)\n",
    "    print(\"Processed training set has {} samples with {} variables.\".format(*train_processed.shape))\n",
    "    X_train, X_test, y_train, y_test = train_test_split(train_processed, unit_sales, test_size = 0.1, random_state = 42)\n",
    "\n",
    "    results[store]= train_predict(regressor, X_train, y_train, X_test, y_test)\n",
    "    prediction_store = predict_submission(results[store]['learner'], train_processed.columns.values, store, items_trained)\n",
    "    \n",
    "    predictions.loc[prediction_store.index] = prediction_store \n",
    "    if not os.path.isfile(file_submission_temp):\n",
    "        prediction_store.to_csv(file_submission_temp, float_format='%.3f')\n",
    "    else:\n",
    "        prediction_store.to_csv(file_submission_temp, mode = 'a', header = False, float_format='%.3f')\n",
    "\n",
    "\n",
    "predictions.to_csv(file_submission, float_format='%.3f')"
   ]
  }
 ],
 "metadata": {
  "kernelspec": {
   "display_name": "Python 3",
   "language": "python",
   "name": "python3"
  },
  "language_info": {
   "codemirror_mode": {
    "name": "ipython",
    "version": 3
   },
   "file_extension": ".py",
   "mimetype": "text/x-python",
   "name": "python",
   "nbconvert_exporter": "python",
   "pygments_lexer": "ipython3",
   "version": "3.6.3"
  }
 },
 "nbformat": 4,
 "nbformat_minor": 2
}
