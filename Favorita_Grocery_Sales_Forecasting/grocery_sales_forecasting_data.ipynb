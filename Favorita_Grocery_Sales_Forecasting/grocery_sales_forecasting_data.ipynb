{
 "cells": [
  {
   "cell_type": "markdown",
   "metadata": {},
   "source": [
    "# Favorita: Favorita Grocery Sales Forecasting"
   ]
  },
  {
   "cell_type": "markdown",
   "metadata": {},
   "source": [
    "## Data exploration  \n",
    "For each data file, I want to see:  \n",
    "(1) some samples with display(df.head(5)) or display(df.tail(5))  \n",
    "(2) A summary of this DataFrame with df.describe()  \n",
    "(3) Data types with print(df.dtypes)\n",
    "(4) Check if there is missing data with df.isnull().values.any()  \n",
    "(5) The number of unique values for each variable with display(df['column_name'].unique())"
   ]
  },
  {
   "cell_type": "code",
   "execution_count": 1,
   "metadata": {
    "collapsed": true
   },
   "outputs": [],
   "source": [
    "# Import libraries necessary for this project\n",
    "import os.path\n",
    "import pickle\n",
    "import numpy as np\n",
    "import pandas as pd\n",
    "from sklearn.model_selection import ShuffleSplit\n",
    "from IPython.display import display\n",
    "import matplotlib.pyplot as plt\n",
    "\n",
    "# Pretty display for notebooks\n",
    "%matplotlib inline\n",
    "# Loaddata() function is used to load two large csv files: train.csv and test.csv\n",
    "def loaddata(filename, nrows=None):\n",
    "    types = {'id': 'int32', 'date':'string_', 'item_nbr': 'int32', 'store_nbr': 'int16', 'unit_sales': 'float32', 'onpromotion': 'float64',}\n",
    "    data = pd.read_csv(filename, dtype=types, infer_datetime_format=True)\n",
    "    return data"
   ]
  },
  {
   "cell_type": "markdown",
   "metadata": {},
   "source": [
    "### 1. Train.csv  \n",
    "There are 125497040 items in this training data with 6 variables each.  \n",
    "6 variables include:  \n",
    "1. id: This is meaningless for model training, and will be dropped\n",
    "2. date: From 2013-01-01 to 2017-08-15\n",
    "3. store_nbr: conintunous integer from 1 to 54\n",
    "4. item_nbr: item id, un-continuous integers\n",
    "5. unit_sale: continuous float number with min=-0.000153 max=89440\n",
    "6. onpromotion: bool 0 1, and missing entries  \n",
    "\n",
    "Missing entries only exist in the column 'onpromotion'."
   ]
  },
  {
   "cell_type": "code",
   "execution_count": 2,
   "metadata": {},
   "outputs": [
    {
     "name": "stdout",
     "output_type": "stream",
     "text": [
      "Training dataset has 125497040 data points with 6 variables each.\n"
     ]
    }
   ],
   "source": [
    "# Load the training dataset\n",
    "train_data = loaddata('input/train.csv')\n",
    "print(\"Training dataset has {} data points with {} variables each.\".format(*train_data.shape))"
   ]
  },
  {
   "cell_type": "code",
   "execution_count": 3,
   "metadata": {},
   "outputs": [
    {
     "data": {
      "text/html": [
       "<div>\n",
       "<style>\n",
       "    .dataframe thead tr:only-child th {\n",
       "        text-align: right;\n",
       "    }\n",
       "\n",
       "    .dataframe thead th {\n",
       "        text-align: left;\n",
       "    }\n",
       "\n",
       "    .dataframe tbody tr th {\n",
       "        vertical-align: top;\n",
       "    }\n",
       "</style>\n",
       "<table border=\"1\" class=\"dataframe\">\n",
       "  <thead>\n",
       "    <tr style=\"text-align: right;\">\n",
       "      <th></th>\n",
       "      <th>id</th>\n",
       "      <th>store_nbr</th>\n",
       "      <th>item_nbr</th>\n",
       "      <th>unit_sales</th>\n",
       "      <th>onpromotion</th>\n",
       "    </tr>\n",
       "  </thead>\n",
       "  <tbody>\n",
       "    <tr>\n",
       "      <th>count</th>\n",
       "      <td>1.254970e+08</td>\n",
       "      <td>1.254970e+08</td>\n",
       "      <td>1.254970e+08</td>\n",
       "      <td>1.254970e+08</td>\n",
       "      <td>1.038702e+08</td>\n",
       "    </tr>\n",
       "    <tr>\n",
       "      <th>mean</th>\n",
       "      <td>6.274852e+07</td>\n",
       "      <td>2.746458e+01</td>\n",
       "      <td>9.727692e+05</td>\n",
       "      <td>5.319669e+00</td>\n",
       "      <td>7.549226e-02</td>\n",
       "    </tr>\n",
       "    <tr>\n",
       "      <th>std</th>\n",
       "      <td>3.622788e+07</td>\n",
       "      <td>1.633051e+01</td>\n",
       "      <td>5.205336e+05</td>\n",
       "      <td>2.306714e+01</td>\n",
       "      <td>2.641840e-01</td>\n",
       "    </tr>\n",
       "    <tr>\n",
       "      <th>min</th>\n",
       "      <td>0.000000e+00</td>\n",
       "      <td>1.000000e+00</td>\n",
       "      <td>9.699500e+04</td>\n",
       "      <td>-1.537200e+04</td>\n",
       "      <td>0.000000e+00</td>\n",
       "    </tr>\n",
       "    <tr>\n",
       "      <th>25%</th>\n",
       "      <td>3.137426e+07</td>\n",
       "      <td>1.200000e+01</td>\n",
       "      <td>5.223830e+05</td>\n",
       "      <td>2.000000e+00</td>\n",
       "      <td>0.000000e+00</td>\n",
       "    </tr>\n",
       "    <tr>\n",
       "      <th>50%</th>\n",
       "      <td>6.274852e+07</td>\n",
       "      <td>2.800000e+01</td>\n",
       "      <td>9.595000e+05</td>\n",
       "      <td>4.000000e+00</td>\n",
       "      <td>0.000000e+00</td>\n",
       "    </tr>\n",
       "    <tr>\n",
       "      <th>75%</th>\n",
       "      <td>9.412278e+07</td>\n",
       "      <td>4.300000e+01</td>\n",
       "      <td>1.354380e+06</td>\n",
       "      <td>9.000000e+00</td>\n",
       "      <td>0.000000e+00</td>\n",
       "    </tr>\n",
       "    <tr>\n",
       "      <th>max</th>\n",
       "      <td>1.254970e+08</td>\n",
       "      <td>5.400000e+01</td>\n",
       "      <td>2.127114e+06</td>\n",
       "      <td>8.944000e+04</td>\n",
       "      <td>1.000000e+00</td>\n",
       "    </tr>\n",
       "  </tbody>\n",
       "</table>\n",
       "</div>"
      ],
      "text/plain": [
       "                 id     store_nbr      item_nbr    unit_sales   onpromotion\n",
       "count  1.254970e+08  1.254970e+08  1.254970e+08  1.254970e+08  1.038702e+08\n",
       "mean   6.274852e+07  2.746458e+01  9.727692e+05  5.319669e+00  7.549226e-02\n",
       "std    3.622788e+07  1.633051e+01  5.205336e+05  2.306714e+01  2.641840e-01\n",
       "min    0.000000e+00  1.000000e+00  9.699500e+04 -1.537200e+04  0.000000e+00\n",
       "25%    3.137426e+07  1.200000e+01  5.223830e+05  2.000000e+00  0.000000e+00\n",
       "50%    6.274852e+07  2.800000e+01  9.595000e+05  4.000000e+00  0.000000e+00\n",
       "75%    9.412278e+07  4.300000e+01  1.354380e+06  9.000000e+00  0.000000e+00\n",
       "max    1.254970e+08  5.400000e+01  2.127114e+06  8.944000e+04  1.000000e+00"
      ]
     },
     "metadata": {},
     "output_type": "display_data"
    }
   ],
   "source": [
    "display(train_data.describe())"
   ]
  },
  {
   "cell_type": "code",
   "execution_count": 4,
   "metadata": {},
   "outputs": [
    {
     "name": "stdout",
     "output_type": "stream",
     "text": [
      "id               int32\n",
      "date            object\n",
      "store_nbr        int16\n",
      "item_nbr         int32\n",
      "unit_sales     float32\n",
      "onpromotion    float64\n",
      "dtype: object\n"
     ]
    }
   ],
   "source": [
    "print(train_data.dtypes)"
   ]
  },
  {
   "cell_type": "code",
   "execution_count": null,
   "metadata": {},
   "outputs": [
    {
     "name": "stdout",
     "output_type": "stream",
     "text": [
      "id\n",
      "[        0         1         2 ..., 125497037 125497038 125497039]\n",
      "date\n",
      "['2013-01-01' '2013-01-02' '2013-01-03' ..., '2017-08-13' '2017-08-14'\n",
      " '2017-08-15']\n",
      "store_nbr\n",
      "[25  1  2  3  4  5  6  7  8  9 10 11 12 13 14 15 16 17 18 19 23 24 26 27 28\n",
      " 30 31 32 33 34 35 37 38 39 40 41 43 44 45 46 47 48 49 50 51 54 36 53 20 29\n",
      " 21 42 22 52]\n",
      "item_nbr\n",
      "[ 103665  105574  105575 ..., 2126944 2123839 2011451]\n",
      "unit_sales\n",
      "[   7.            1.            2.         ...,  247.42999268  225.19599915\n",
      "  114.91699982]\n",
      "onpromotion\n",
      "[ nan   1.   0.]\n"
     ]
    }
   ],
   "source": [
    "for col in train_data.columns:\n",
    "    print(col, train_data[col].unique(), sep='\\n')"
   ]
  },
  {
   "cell_type": "code",
   "execution_count": null,
   "metadata": {},
   "outputs": [],
   "source": [
    "train_data.drop('onpromotion', axis=1).isnull().values.any()"
   ]
  },
  {
   "cell_type": "markdown",
   "metadata": {},
   "source": [
    "### 2. holidays_events.csv  \n",
    "There are 350 items in holidays_events with 6 variables each.  \n",
    "Variables are listed below:\n",
    "1. date: 312 unique dates from 2012-03-02 to 2017-12-26\n",
    "2. type: ['Holiday', 'Transfer', 'Additional', 'Bridge', 'Work Day', 'Event']\n",
    "3. locale: ['Local', 'Regional', 'National']\n",
    "4. locale_name: ['Manta', 'Cotopaxi', 'Cuenca', 'Libertad', 'Riobamba', 'Puyo','Guaranda', 'Imbabura', 'Latacunga', 'Machala', 'Santo Domingo','El Carmen', 'Cayambe', 'Esmeraldas', 'Ecuador', 'Ambato', 'Ibarra','Quevedo', 'Santo Domingo de los Tsachilas', 'Santa Elena', 'Quito','Loja', 'Salinas', 'Guayaquil']\n",
    "5. description:103 entries (don't understand)\n",
    "6. transferred: [False,  True]  \n",
    "\n",
    "There is no missing entries in this dataset."
   ]
  },
  {
   "cell_type": "code",
   "execution_count": null,
   "metadata": {},
   "outputs": [],
   "source": [
    "holidays_events = pd.read_csv(\"input/holidays_events.csv\")\n",
    "print(\"Holidays_events has {} data points with {} variables each.\".format(*holidays_events.shape))\n",
    "\n",
    "display(holidays_events.describe())\n",
    "print(holidays_events.dtypes)\n",
    "\n",
    "for col in holidays_events.columns:\n",
    "    print(col, holidays_events[col].unique(), sep='\\n')\n",
    "\n",
    "holidays_events.isnull().values.any()"
   ]
  },
  {
   "cell_type": "markdown",
   "metadata": {},
   "source": [
    "### 3. stores.csv  \n",
    "There are 54 items in holidays_events with 5 variables each.  \n",
    "Variables are listed below:\n",
    "1. store_nbr: [ 1,  2,  3,  4,  5,  6,  7,  8,  9, 10, 11, 12, 13, 14, 15, 16, 17, 18, 19, 20, 21, 22, 23, 24, 25, 26, 27, 28, 29, 30, 31, 32, 33, 34, 35, 36, 37, 38, 39, 40, 41, 42, 43, 44, 45, 46, 47, 48, 49, 50, 51, 52, 53, 54]\n",
    "2. city: ['Quito', 'Santo Domingo', 'Cayambe', 'Latacunga', 'Riobamba', 'Ibarra', 'Guaranda', 'Puyo', 'Ambato', 'Guayaquil', 'Salinas', 'Daule', 'Babahoyo', 'Quevedo', 'Playas', 'Libertad', 'Cuenca', 'Loja', 'Machala', 'Esmeraldas', 'Manta', 'El Carmen']\n",
    "3. state: ['Pichincha', 'Santo Domingo de los Tsachilas', 'Cotopaxi', 'Chimborazo', 'Imbabura', 'Bolivar', 'Pastaza', 'Tungurahua', 'Guayas', 'Santa Elena', 'Los Rios', 'Azuay', 'Loja', 'El Oro', 'Esmeraldas', 'Manabi']\n",
    "4. type: ['D', 'B', 'C', 'E', 'A']\n",
    "5. cluster: [13,  8,  9,  4,  6, 15,  7,  3, 12, 16,  1, 10,  2,  5, 11, 14, 17]\n",
    "\n",
    "There is no missing entries in this dataset."
   ]
  },
  {
   "cell_type": "code",
   "execution_count": null,
   "metadata": {},
   "outputs": [],
   "source": [
    "stores = pd.read_csv(\"input/stores.csv\")\n",
    "print(\"Stores has {} data points with {} variables each.\".format(*stores.shape))\n",
    "\n",
    "display(stores.describe())\n",
    "print(stores.dtypes)\n",
    "\n",
    "for col in stores.columns:\n",
    "    print(col, stores[col].unique(), sep='\\n')\n",
    "\n",
    "stores.isnull().values.any()"
   ]
  },
  {
   "cell_type": "markdown",
   "metadata": {},
   "source": [
    "### 4. oil.csv  \n",
    "There are 1218 items in holidays_events with 2 variables each.  \n",
    "Variables are listed below:\n",
    "1. date: from 2013-01-01 to 2017-08-31\n",
    "2. dcoilwtico: continuous value from 26.19~110.62\n",
    "\n",
    "There is 1 missing entries in this dataset."
   ]
  },
  {
   "cell_type": "code",
   "execution_count": null,
   "metadata": {},
   "outputs": [],
   "source": [
    "oil = pd.read_csv(\"input/oil.csv\")\n",
    "print(\"Oil has {} data points with {} variables each.\".format(*oil.shape))\n",
    "\n",
    "display(oil.describe())\n",
    "print(oil.dtypes)\n",
    "\n",
    "for col in oil.columns:\n",
    "    print(col, oil[col].unique(), sep='\\n')\n",
    "\n",
    "oil.isnull().values.any()"
   ]
  },
  {
   "cell_type": "markdown",
   "metadata": {},
   "source": [
    "### 5. transactions.csv"
   ]
  },
  {
   "cell_type": "markdown",
   "metadata": {},
   "source": [
    "There are 83488 items in holidays_events with 3 variables each.  \n",
    "Variables are listed below:\n",
    "1. date: from 2013-01-01 to 2017-08-15\n",
    "2. store_nbr: 54 store numbers\n",
    "2. transactions: integers between 5 and 8358\n",
    "\n",
    "There is 1 missing entries in this dataset."
   ]
  },
  {
   "cell_type": "code",
   "execution_count": null,
   "metadata": {},
   "outputs": [],
   "source": [
    "transactions = pd.read_csv(\"input/transactions.csv\")\n",
    "print(\"transactions has {} data points with {} variables each.\".format(*transactions.shape))\n",
    "\n",
    "display(transactions.describe())\n",
    "print(transactions.dtypes)\n",
    "\n",
    "for col in transactions.columns:\n",
    "    print(col, transactions[col].unique(), sep='\\n')\n",
    "\n",
    "transactions.isnull().values.any()"
   ]
  },
  {
   "cell_type": "markdown",
   "metadata": {},
   "source": [
    "### 6. items.csv  \n",
    "There are 4100 items in holidays_events with 4 variables each.  \n",
    "Variables are listed below:\n",
    "1. item_nbr: 4100 discrete values\n",
    "2. family: ['GROCERY I' 'CLEANING' 'BREAD/BAKERY' 'DELI' 'POULTRY' 'EGGS'\n",
    " 'PERSONAL CARE' 'LINGERIE' 'BEVERAGES' 'AUTOMOTIVE' 'DAIRY' 'GROCERY II'\n",
    " 'MEATS' 'FROZEN FOODS' 'HOME APPLIANCES' 'SEAFOOD' 'PREPARED FOODS'\n",
    " 'LIQUOR,WINE,BEER' 'BEAUTY' 'HARDWARE' 'LAWN AND GARDEN' 'PRODUCE'\n",
    " 'HOME AND KITCHEN II' 'HOME AND KITCHEN I' 'MAGAZINES' 'HOME CARE'\n",
    " 'PET SUPPLIES' 'BABY CARE' 'SCHOOL AND OFFICE SUPPLIES'\n",
    " 'PLAYERS AND ELECTRONICS' 'CELEBRATION' 'LADIESWEAR' 'BOOKS']\n",
    "3. class: 337 discrete values\n",
    "4. perishable: 0 and 1\n",
    "There is no missing entries in this dataset."
   ]
  },
  {
   "cell_type": "code",
   "execution_count": null,
   "metadata": {},
   "outputs": [],
   "source": [
    "items = pd.read_csv(\"input/items.csv\")\n",
    "print(\"items has {} data points with {} variables each.\".format(*items.shape))\n",
    "\n",
    "display(items.describe())\n",
    "print(items.dtypes)\n",
    "\n",
    "for col in items.columns:\n",
    "    print(col, items[col].unique(), sep='\\n')\n",
    "\n",
    "items.isnull().values.any()"
   ]
  },
  {
   "cell_type": "markdown",
   "metadata": {},
   "source": [
    "### test.csv"
   ]
  },
  {
   "cell_type": "code",
   "execution_count": null,
   "metadata": {},
   "outputs": [],
   "source": [
    "test_data = pd.read_csv(\"input/test.csv\")\n",
    "print(\"Favorita grocery sales forecasting testing data has {} samples with {} features each.\".format(*test_data.shape))\n",
    "display(test_data.head(5))"
   ]
  },
  {
   "cell_type": "markdown",
   "metadata": {},
   "source": [
    "### sample_submission.csv"
   ]
  },
  {
   "cell_type": "code",
   "execution_count": null,
   "metadata": {},
   "outputs": [],
   "source": [
    "sample_submission = pd.read_csv(\"input/sample_submission.csv\")\n",
    "display(sample_submission.head(n=5))\n",
    "sample_submission.dtypes"
   ]
  }
 ],
 "metadata": {
  "kernelspec": {
   "display_name": "Python 3",
   "language": "python",
   "name": "python3"
  },
  "language_info": {
   "codemirror_mode": {
    "name": "ipython",
    "version": 3
   },
   "file_extension": ".py",
   "mimetype": "text/x-python",
   "name": "python",
   "nbconvert_exporter": "python",
   "pygments_lexer": "ipython3",
   "version": "3.6.3"
  }
 },
 "nbformat": 4,
 "nbformat_minor": 2
}
