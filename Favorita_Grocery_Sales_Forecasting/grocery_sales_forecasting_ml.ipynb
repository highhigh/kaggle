{
 "cells": [
  {
   "cell_type": "markdown",
   "metadata": {},
   "source": [
    "# grocery_sales_forecasting_ml"
   ]
  },
  {
   "cell_type": "markdown",
   "metadata": {},
   "source": [
    "This baseline model is non-parametric. This model is simply average of history sale (from 2013 to 2016 of the same day.)"
   ]
  },
  {
   "cell_type": "code",
   "execution_count": 1,
   "metadata": {
    "collapsed": true
   },
   "outputs": [],
   "source": [
    "# Import libraries necessary for this project\n",
    "import os.path\n",
    "import pickle\n",
    "import numpy as np\n",
    "import pandas as pd\n",
    "from sklearn.model_selection import ShuffleSplit\n",
    "from IPython.display import display\n",
    "import matplotlib.pyplot as plt\n",
    "import datetime as dt\n",
    "from time import time\n",
    "import sys\n",
    "\n",
    "types = {'id': 'int32', 'item_nbr': 'int32', 'store_nbr': np.dtype('int8')}\n",
    "\n",
    "%matplotlib inline"
   ]
  },
  {
   "cell_type": "markdown",
   "metadata": {},
   "source": [
    "## import data"
   ]
  },
  {
   "cell_type": "code",
   "execution_count": 3,
   "metadata": {},
   "outputs": [
    {
     "name": "stderr",
     "output_type": "stream",
     "text": [
      "/home/adou/anaconda3/lib/python3.6/site-packages/IPython/core/interactiveshell.py:2698: DtypeWarning: Columns (5) have mixed types. Specify dtype option on import or set low_memory=False.\n",
      "  interactivity=interactivity, compiler=compiler, result=result)\n",
      "/home/adou/anaconda3/lib/python3.6/site-packages/numpy/lib/arraysetops.py:463: FutureWarning: elementwise comparison failed; returning scalar instead, but in the future will perform elementwise comparison\n",
      "  mask |= (ar1 == a)\n"
     ]
    },
    {
     "name": "stdout",
     "output_type": "stream",
     "text": [
      "Favorita grocery sales forecasting training data has 1461722 samples with 5 features each.\n"
     ]
    },
    {
     "data": {
      "text/html": [
       "<div>\n",
       "<style>\n",
       "    .dataframe thead tr:only-child th {\n",
       "        text-align: right;\n",
       "    }\n",
       "\n",
       "    .dataframe thead th {\n",
       "        text-align: left;\n",
       "    }\n",
       "\n",
       "    .dataframe tbody tr th {\n",
       "        vertical-align: top;\n",
       "    }\n",
       "</style>\n",
       "<table border=\"1\" class=\"dataframe\">\n",
       "  <thead>\n",
       "    <tr style=\"text-align: right;\">\n",
       "      <th></th>\n",
       "      <th>date</th>\n",
       "      <th>store_nbr</th>\n",
       "      <th>item_nbr</th>\n",
       "      <th>unit_sales</th>\n",
       "      <th>onpromotion</th>\n",
       "    </tr>\n",
       "    <tr>\n",
       "      <th>id</th>\n",
       "      <th></th>\n",
       "      <th></th>\n",
       "      <th></th>\n",
       "      <th></th>\n",
       "      <th></th>\n",
       "    </tr>\n",
       "  </thead>\n",
       "  <tbody>\n",
       "    <tr>\n",
       "      <th>4716030</th>\n",
       "      <td>2013-04-24</td>\n",
       "      <td>46</td>\n",
       "      <td>749421</td>\n",
       "      <td>5.0</td>\n",
       "      <td>1</td>\n",
       "    </tr>\n",
       "    <tr>\n",
       "      <th>7467838</th>\n",
       "      <td>2013-06-26</td>\n",
       "      <td>1</td>\n",
       "      <td>888630</td>\n",
       "      <td>2.0</td>\n",
       "      <td>1</td>\n",
       "    </tr>\n",
       "    <tr>\n",
       "      <th>7861246</th>\n",
       "      <td>2013-07-04</td>\n",
       "      <td>38</td>\n",
       "      <td>627887</td>\n",
       "      <td>1.0</td>\n",
       "      <td>1</td>\n",
       "    </tr>\n",
       "    <tr>\n",
       "      <th>8777150</th>\n",
       "      <td>2013-07-25</td>\n",
       "      <td>12</td>\n",
       "      <td>357961</td>\n",
       "      <td>2.0</td>\n",
       "      <td>1</td>\n",
       "    </tr>\n",
       "    <tr>\n",
       "      <th>8908286</th>\n",
       "      <td>2013-07-28</td>\n",
       "      <td>8</td>\n",
       "      <td>793345</td>\n",
       "      <td>2.0</td>\n",
       "      <td>1</td>\n",
       "    </tr>\n",
       "  </tbody>\n",
       "</table>\n",
       "</div>"
      ],
      "text/plain": [
       "              date  store_nbr  item_nbr  unit_sales  onpromotion\n",
       "id                                                              \n",
       "4716030 2013-04-24         46    749421         5.0            1\n",
       "7467838 2013-06-26          1    888630         2.0            1\n",
       "7861246 2013-07-04         38    627887         1.0            1\n",
       "8777150 2013-07-25         12    357961         2.0            1\n",
       "8908286 2013-07-28          8    793345         2.0            1"
      ]
     },
     "metadata": {},
     "output_type": "display_data"
    }
   ],
   "source": [
    "train_data_raw = pd.read_csv('input/train.csv', usecols=[0,1,2,3,4,5], index_col=0,\n",
    "                             parse_dates=['date'], dtype=types, \n",
    "                             converters={'unit_sales':lambda u: float(u) if float(u)>0 else 0},\n",
    "                             skiprows=range(1,124035460))  # 124035460:2017/08/01 # 101688779: 2017/01/01 #117477877:2017/06/01\n",
    "train_data_raw['onpromotion'] = [1 if p  else 0 for p in train_data_raw['onpromotion']]\n",
    "print(\"Favorita grocery sales forecasting training data has {} samples with {} features each.\".format(*train_data_raw.shape))\n",
    "display(train_data_raw.head(5))"
   ]
  },
  {
   "cell_type": "code",
   "execution_count": null,
   "metadata": {
    "collapsed": true
   },
   "outputs": [],
   "source": []
  },
  {
   "cell_type": "code",
   "execution_count": null,
   "metadata": {},
   "outputs": [],
   "source": [
    "test_data_raw = pd.read_csv('input/test.csv', usecols=[0, 1,2,3,4], index_col=0,\n",
    "                            parse_dates=['date'], dtype=types)\n",
    "test_data_raw['onpromotion'] = [1 if p  else 0 for p in test_data_raw['onpromotion']]\n",
    "\n",
    "print(\"Favorita grocery sales forecasting testing data has {} samples with {} features each.\".format(*test_data_raw.shape))\n",
    "print(test_data_raw.dtypes)"
   ]
  },
  {
   "cell_type": "code",
   "execution_count": null,
   "metadata": {
    "collapsed": true
   },
   "outputs": [],
   "source": [
    "uitem_train = set(train_data_raw.item_nbr.unique())\n",
    "uitem_test = set(test_data_raw.item_nbr.unique())\n",
    "items = uitem_train.intersection(uitem_test)"
   ]
  },
  {
   "cell_type": "markdown",
   "metadata": {},
   "source": [
    "There are 19 items appear in training data, but not in testing data; 68 items appear only testing data, not in training data."
   ]
  },
  {
   "cell_type": "code",
   "execution_count": null,
   "metadata": {},
   "outputs": [],
   "source": [
    "train_data = train_data_raw.loc[train_data_raw['item_nbr'].isin(items)].copy()\n",
    "train_data.reset_index(inplace=True)\n",
    "print(\"There are {} samples after droping unuseful items.\".format(train_data.shape[0]))\n",
    "test_data = test_data_raw.loc[test_data_raw['item_nbr'].isin(items)].copy()\n",
    "test_data.reset_index(inplace=True)\n",
    "print(\"There are {} testing data after droping unuseful items.\".format(test_data.shape[0]))"
   ]
  },
  {
   "cell_type": "code",
   "execution_count": null,
   "metadata": {
    "collapsed": true
   },
   "outputs": [],
   "source": [
    "# from sklearn.preprocessing import OneHotEncoder\n",
    "def pre_process(feature_raw):\n",
    "\n",
    "    items = pd.read_csv(\"input/items.csv\", dtype={'perishable': np.dtype('int8')})\n",
    "    feature_raw= pd.merge(feature_raw,items, right_on='item_nbr',left_on='item_nbr',how='left')\n",
    "    \n",
    "    stores = pd.read_csv(\"input/stores.csv\")\n",
    "    stores.drop(['city', 'state'], axis = 1)\n",
    "    feature_raw= pd.merge(feature_raw,stores, right_on='store_nbr',left_on='store_nbr',how='left')\n",
    "\n",
    "    # holidays_events = pd.read_csv(\"input/holidays_events.csv\")\n",
    "    # train_data= pd.merge(train_data,stores, right_on='date',left_on='date',how='left')\n",
    "    # display(train_data.tail(5))\n",
    "    \n",
    "    feature_raw['day_of_week'] = feature_raw['date'].dt.weekday_name\n",
    "\n",
    "    if feature_raw.isnull().values.any():\n",
    "        print(\"There is NaN before one-hot-encoding!\")\n",
    "    else:\n",
    "        print(\"There is no NaN before one-hot-encoding\")\n",
    "    feature_one_hot_coded = pd.get_dummies(feature_raw, columns = ['item_nbr'])\n",
    "    if feature_one_hot_coded.isnull().values.any():\n",
    "        print(\"There is NaN after one-hot-encoding!\")\n",
    "    else:\n",
    "        print(\"There is no NaN after one-hot-encoding\")\n",
    "    \n",
    "#     enc = OneHotEncoder()\n",
    "#     feature_one_hot_coded_sklearn = enc.fit_transform(feature_raw)\n",
    "#     if feature_one_hot_coded_sklearn.isnull().values.any():\n",
    "#         print(\"There is NaN after one-hot-encoding!\")\n",
    "#     else:\n",
    "#         print(\"There is no NaN after one-hot-encoding\")\n",
    "        \n",
    "    return feature_one_hot_coded"
   ]
  },
  {
   "cell_type": "code",
   "execution_count": null,
   "metadata": {},
   "outputs": [],
   "source": [
    "# train_data_raw = pd.read_csv('input/train.csv', skiprows=range(1,125035437)) #124899960\n",
    "# print(sys.getsizeof(train_data_raw))\n",
    "print(train_data_raw.shape)\n",
    "display(train_data_raw.head(5))\n",
    "\n",
    "train_processed = pre_process(train_data_raw)\n",
    "\n",
    "unit_sale = train_processed['unit_sales'].values.reshape(-1,1)\n",
    "train_processed = train_processed.drop('unit_sales', axis = 1)"
   ]
  },
  {
   "cell_type": "markdown",
   "metadata": {},
   "source": [
    "Evaluation metric: Normalized Weighted Root Mean Squared Logarithmic Error (NWRMSLE)"
   ]
  },
  {
   "cell_type": "markdown",
   "metadata": {},
   "source": [
    "no           yes\n",
    "125035430    125035460\n",
    "125035430    125035445\n",
    "125035434    125035438\n",
    "125035437"
   ]
  },
  {
   "cell_type": "code",
   "execution_count": null,
   "metadata": {
    "collapsed": true
   },
   "outputs": [],
   "source": [
    "from sklearn.metrics import make_scorer\n",
    "def nwrmsle(ground_truth, predictions, w):\n",
    "    nominator = 0\n",
    "    batch = 50000\n",
    "    n_batches = int(len(w)//batch)\n",
    "    for index in range(n_batches):\n",
    "        istart = index*batch; iend = (index+1)*batch\n",
    "        nominator += np.sum(w[istart:iend]*np.square(np.log1p(predictions[istart:iend]) - np.log1p(ground_truth[istart:iend])))\n",
    "    if n_batches * batch < len(w):\n",
    "        istart = n_batches * batch\n",
    "        nominator += np.sum(w[istart:]*np.square(np.log1p(predictions[istart:]) - np.log1p(ground_truth[istart:])))\n",
    "    return np.sqrt(nominator)/np.sum(w)\n",
    "\n",
    "nwrmsle_scorer = make_scorer(score_func=nwrmsle, greater_is_better=False, w = [])\n"
   ]
  },
  {
   "cell_type": "code",
   "execution_count": null,
   "metadata": {},
   "outputs": [],
   "source": [
    "from sklearn.model_selection import train_test_split\n",
    "\n",
    "X_train, X_test, y_train, y_test = train_test_split(train_processed, unit_sale, test_size = 0.1, random_state = 42)\n",
    "\n",
    "print(\"Training set has {} samples with {} variables.\".format(*X_train.shape))\n",
    "print(\"Testing set has {} samples.\".format(X_test.shape[0]))"
   ]
  },
  {
   "cell_type": "code",
   "execution_count": null,
   "metadata": {
    "collapsed": true
   },
   "outputs": [],
   "source": [
    "def train_predict(learner, X_train, y_train, X_test, y_test,  sample_size=X_train.shape[0]):\n",
    "    results = dict()\n",
    "    start = time()\n",
    "    learner.fit(X_train[:sample_size], y_train[:sample_size])\n",
    "    results['train_time'] = time() - start\n",
    "    \n",
    "    start = time()\n",
    "    predictions_temp = learner.predict(X_test)\n",
    "    predictions = [x if x>=0 else 0 for x in predictions_temp]\n",
    "    results['test_time'] = time() - start\n",
    "    results['learner'] = learner\n",
    "    \n",
    "    w = X_test['perishable'].apply(lambda x: 1.25 if x else 1).values.ravel()\n",
    "    results['score'] = nwrmsle(y_test.flatten(), predictions, w = w)\n",
    "    return results"
   ]
  },
  {
   "cell_type": "markdown",
   "metadata": {},
   "source": [
    "## DecisionTreeRegressor"
   ]
  },
  {
   "cell_type": "code",
   "execution_count": null,
   "metadata": {},
   "outputs": [],
   "source": [
    "from sklearn.tree import DecisionTreeRegressor\n",
    "from sklearn import linear_model\n",
    "from sklearn.ensemble import GradientBoostingRegressor\n",
    "\n",
    "samples_1 = int(len(y_train)*0.01)\n",
    "samples_10 = int(len(y_train)*0.1)\n",
    "samples_100 = len(y_train)\n",
    "\n",
    "regressor_A = DecisionTreeRegressor(random_state = 36, max_depth = 50)\n",
    "regressor_B = linear_model.LinearRegression()\n",
    "params = {'n_estimators': 500, 'max_depth': 4, 'min_samples_split':2, 'learning_rage': 0.01}\n",
    "regressor_C = GradientBoostingRegressor(**params)\n",
    "\n",
    "\n",
    "results = {}\n",
    "for regressor in [regressor_A]:\n",
    "    reg_name = regressor.__class__.__name__\n",
    "    results[reg_name] = {}\n",
    "    for i, samples in enumerate([samples_100]):\n",
    "        results[reg_name][i] = train_predict(regressor, X_train, y_train, X_test, y_test, samples)\n",
    "print(results.items())\n",
    "\n",
    "model = results['DecisionTreeRegressor'][0]['learner']\n",
    "filename = 'DecisionTreeRegressor.sav'\n",
    "pickle.dump(model, open(filename, 'wb'))"
   ]
  },
  {
   "cell_type": "code",
   "execution_count": null,
   "metadata": {
    "collapsed": true
   },
   "outputs": [],
   "source": [
    "filename = 'DecisionTreeRegressor.sav'\n",
    "model = pickle.load(open(filename, 'rb'))\n",
    "predictions = []\n",
    "batch = 1000000\n",
    "n_items = test_data.shape[0]\n",
    "n_batches = int(n_items//batch) if n_items%batch==0 else int(n_items//batch)+1\n",
    "start = time()\n",
    "for index in range(n_batches):\n",
    "    istart = index*batch\n",
    "    iend = (index+1)*batch if (index+1)*batch < n_items else n_items\n",
    "    \n",
    "    test_one_hot_encoded = pre_process(test_data[istart:iend])\n",
    "    print(test_one_hot_encoded.isnull().values.any())\n",
    "    \n",
    "    test_processed = pd.DataFrame(0, index=range(istart-istart,iend-istart), columns=train_processed.columns, dtype=np.dtype('int8'))\n",
    "    test_processed[test_one_hot_encoded.columns] = test_one_hot_encoded\n",
    "    print(test_processed.isnull().values.any())\n",
    "    \n",
    "    prediction_part = model.predict(test_processed)\n",
    "    predictions += list(prediction_part.ravel())\n",
    "    print('{} batch is complete within {} seconds.'.format(index, time()-start))\n",
    "    "
   ]
  },
  {
   "cell_type": "code",
   "execution_count": null,
   "metadata": {
    "collapsed": true
   },
   "outputs": [],
   "source": [
    "test_data['unit_sales'] = predictions\n",
    "test_result= pd.merge(test_data_raw, test_data, left_on=['date','store_nbr','item_nbr', 'onpromotion'],\n",
    "                      right_on=['date','store_nbr','item_nbr', 'onpromotion'],how='left')\n",
    "test_result.fillna(0)[['id', 'unit_sales']].to_csv(model.__class__.__name__ +'.csv', index=False, float_format='%.3f') "
   ]
  }
 ],
 "metadata": {
  "kernelspec": {
   "display_name": "Python 3",
   "language": "python",
   "name": "python3"
  },
  "language_info": {
   "codemirror_mode": {
    "name": "ipython",
    "version": 3
   },
   "file_extension": ".py",
   "mimetype": "text/x-python",
   "name": "python",
   "nbconvert_exporter": "python",
   "pygments_lexer": "ipython3",
   "version": "3.6.3"
  }
 },
 "nbformat": 4,
 "nbformat_minor": 2
}
