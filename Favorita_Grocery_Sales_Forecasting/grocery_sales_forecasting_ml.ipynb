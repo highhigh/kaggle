{
 "cells": [
  {
   "cell_type": "markdown",
   "metadata": {},
   "source": [
    "# grocery_sales_forecasting_ml"
   ]
  },
  {
   "cell_type": "markdown",
   "metadata": {},
   "source": [
    "This baseline model is non-parametric. This model is simply average of history sale (from 2013 to 2016 of the same day.)"
   ]
  },
  {
   "cell_type": "code",
   "execution_count": 1,
   "metadata": {
    "collapsed": true
   },
   "outputs": [],
   "source": [
    "# Import libraries necessary for this project\n",
    "import os.path\n",
    "import pickle\n",
    "import numpy as np\n",
    "import pandas as pd\n",
    "from sklearn.model_selection import ShuffleSplit\n",
    "from IPython.display import display\n",
    "import matplotlib.pyplot as plt\n",
    "import datetime as dt\n",
    "from time import time\n",
    "import sys\n",
    "\n",
    "types = {'id': 'int32', 'item_nbr': 'int32', 'store_nbr': 'int8', 'onpromotion': bool}\n",
    "\n",
    "%matplotlib inline"
   ]
  },
  {
   "cell_type": "markdown",
   "metadata": {},
   "source": [
    "## import data"
   ]
  },
  {
   "cell_type": "code",
   "execution_count": 2,
   "metadata": {},
   "outputs": [
    {
     "name": "stdout",
     "output_type": "stream",
     "text": [
      "Favorita grocery sales forecasting training data has 1461581 samples with 5 features each.\n"
     ]
    },
    {
     "data": {
      "text/html": [
       "<div>\n",
       "<style>\n",
       "    .dataframe thead tr:only-child th {\n",
       "        text-align: right;\n",
       "    }\n",
       "\n",
       "    .dataframe thead th {\n",
       "        text-align: left;\n",
       "    }\n",
       "\n",
       "    .dataframe tbody tr th {\n",
       "        vertical-align: top;\n",
       "    }\n",
       "</style>\n",
       "<table border=\"1\" class=\"dataframe\">\n",
       "  <thead>\n",
       "    <tr style=\"text-align: right;\">\n",
       "      <th></th>\n",
       "      <th>date</th>\n",
       "      <th>store_nbr</th>\n",
       "      <th>item_nbr</th>\n",
       "      <th>unit_sales</th>\n",
       "      <th>onpromotion</th>\n",
       "    </tr>\n",
       "  </thead>\n",
       "  <tbody>\n",
       "    <tr>\n",
       "      <th>0</th>\n",
       "      <td>2017-08-02</td>\n",
       "      <td>1</td>\n",
       "      <td>96995</td>\n",
       "      <td>1.0</td>\n",
       "      <td>0</td>\n",
       "    </tr>\n",
       "    <tr>\n",
       "      <th>1</th>\n",
       "      <td>2017-08-02</td>\n",
       "      <td>1</td>\n",
       "      <td>103520</td>\n",
       "      <td>1.0</td>\n",
       "      <td>0</td>\n",
       "    </tr>\n",
       "    <tr>\n",
       "      <th>2</th>\n",
       "      <td>2017-08-02</td>\n",
       "      <td>1</td>\n",
       "      <td>103665</td>\n",
       "      <td>2.0</td>\n",
       "      <td>0</td>\n",
       "    </tr>\n",
       "    <tr>\n",
       "      <th>3</th>\n",
       "      <td>2017-08-02</td>\n",
       "      <td>1</td>\n",
       "      <td>105574</td>\n",
       "      <td>8.0</td>\n",
       "      <td>0</td>\n",
       "    </tr>\n",
       "    <tr>\n",
       "      <th>4</th>\n",
       "      <td>2017-08-02</td>\n",
       "      <td>1</td>\n",
       "      <td>105575</td>\n",
       "      <td>8.0</td>\n",
       "      <td>0</td>\n",
       "    </tr>\n",
       "  </tbody>\n",
       "</table>\n",
       "</div>"
      ],
      "text/plain": [
       "        date  store_nbr  item_nbr  unit_sales  onpromotion\n",
       "0 2017-08-02          1     96995         1.0            0\n",
       "1 2017-08-02          1    103520         1.0            0\n",
       "2 2017-08-02          1    103665         2.0            0\n",
       "3 2017-08-02          1    105574         8.0            0\n",
       "4 2017-08-02          1    105575         8.0            0"
      ]
     },
     "metadata": {},
     "output_type": "display_data"
    }
   ],
   "source": [
    "train_data_raw = pd.read_csv('input/train.csv', usecols = [1,2,3,4,5],\n",
    "                             parse_dates=['date'], dtype=types, \n",
    "                             infer_datetime_format = True,\n",
    "                             converters={'unit_sales':lambda u: float(u) if float(u)>0 else 0},\n",
    "                             skiprows=range(1,124035460))  # 124035460:2017/08/01 # 101688779: 2017/01/01 #117477877:2017/06/01\n",
    "train_data_raw['onpromotion'].fillna(False, inplace = True)\n",
    "train_data_raw['onpromotion'] = train_data_raw['onpromotion'].map({False : 0, True : 1})\n",
    "train_data_raw['onpromotion'] = train_data_raw['onpromotion'].astype('int8')\n",
    "print(\"Favorita grocery sales forecasting training data has {} samples with {} features each.\".format(*train_data_raw.shape))\n",
    "display(train_data_raw.head(5))"
   ]
  },
  {
   "cell_type": "code",
   "execution_count": 3,
   "metadata": {},
   "outputs": [
    {
     "name": "stdout",
     "output_type": "stream",
     "text": [
      "Favorita grocery sales forecasting testing data has 3370464 samples with 4 features each.\n",
      "date           datetime64[ns]\n",
      "store_nbr                int8\n",
      "item_nbr                int32\n",
      "onpromotion              int8\n",
      "dtype: object\n"
     ]
    }
   ],
   "source": [
    "test_data_raw = pd.read_csv('input/test.csv', usecols=[1,2,3,4],\n",
    "                            parse_dates=['date'], dtype=types)\n",
    "test_data_raw['onpromotion'].fillna(False, inplace = True)\n",
    "test_data_raw['onpromotion'] = test_data_raw['onpromotion'].map({False : 0, True : 1})\n",
    "test_data_raw['onpromotion'] = test_data_raw['onpromotion'].astype('int8')\n",
    "\n",
    "print(\"Favorita grocery sales forecasting testing data has {} samples with {} features each.\".format(*test_data_raw.shape))\n",
    "print(test_data_raw.dtypes)"
   ]
  },
  {
   "cell_type": "code",
   "execution_count": 4,
   "metadata": {
    "collapsed": true
   },
   "outputs": [],
   "source": [
    "uitem_train = set(train_data_raw.item_nbr.unique())\n",
    "uitem_test = set(test_data_raw.item_nbr.unique())\n",
    "items = uitem_train.intersection(uitem_test)"
   ]
  },
  {
   "cell_type": "markdown",
   "metadata": {},
   "source": [
    "There are 19 items appear in training data, but not in testing data; 68 items appear only testing data, not in training data."
   ]
  },
  {
   "cell_type": "code",
   "execution_count": 5,
   "metadata": {},
   "outputs": [
    {
     "name": "stdout",
     "output_type": "stream",
     "text": [
      "There are 1460827 samples after droping unuseful items.\n",
      "There are 3311712 testing data after droping unuseful items.\n"
     ]
    }
   ],
   "source": [
    "train_data = train_data_raw.loc[train_data_raw['item_nbr'].isin(items)].copy()\n",
    "# train_data.reset_index(inplace=True)\n",
    "print(\"There are {} samples after droping unuseful items.\".format(train_data.shape[0]))\n",
    "test_data = test_data_raw.loc[test_data_raw['item_nbr'].isin(items)].copy()\n",
    "# test_data.reset_index(inplace=True)\n",
    "print(\"There are {} testing data after droping unuseful items.\".format(test_data.shape[0]))"
   ]
  },
  {
   "cell_type": "code",
   "execution_count": 6,
   "metadata": {
    "collapsed": true
   },
   "outputs": [],
   "source": [
    "# from sklearn.preprocessing import OneHotEncoder\n",
    "def pre_process(feature_raw):\n",
    "\n",
    "    items = pd.read_csv(\"input/items.csv\", dtype={'perishable': np.dtype('int8')})\n",
    "    feature_raw= pd.merge(feature_raw,items, right_on='item_nbr',left_on='item_nbr',how='left')\n",
    "    \n",
    "    stores = pd.read_csv(\"input/stores.csv\")\n",
    "    stores.drop(['city', 'state'], axis = 1, inplace=True)\n",
    "    feature_raw= pd.merge(feature_raw,stores, right_on='store_nbr',left_on='store_nbr',how='left')\n",
    "\n",
    "    # holidays_events = pd.read_csv(\"input/holidays_events.csv\")\n",
    "    # train_data= pd.merge(train_data,stores, right_on='date',left_on='date',how='left')\n",
    "    # display(train_data.tail(5))\n",
    "    \n",
    "    feature_raw['day_of_week'] = feature_raw['date'].dt.weekday_name\n",
    "\n",
    "    if feature_raw.isnull().values.any():\n",
    "        print(\"There is NaN before one-hot-encoding!\")\n",
    "    else:\n",
    "        print(\"There is no NaN before one-hot-encoding\")\n",
    "    feature_raw.drop(['date'], axis = 1, inplace = True)\n",
    "    feature_one_hot_coded = pd.get_dummies(feature_raw, columns = ['item_nbr', 'family', 'class', 'store_nbr', 'day_of_week', 'type', 'cluster'])\n",
    "    if feature_one_hot_coded.isnull().values.any():\n",
    "        print(\"There is NaN after one-hot-encoding!\")\n",
    "    else:\n",
    "        print(\"There is no NaN after one-hot-encoding\")\n",
    "        \n",
    "    return feature_one_hot_coded"
   ]
  },
  {
   "cell_type": "code",
   "execution_count": 7,
   "metadata": {},
   "outputs": [
    {
     "name": "stdout",
     "output_type": "stream",
     "text": [
      "There is no NaN before one-hot-encoding\n",
      "There is no NaN after one-hot-encoding\n"
     ]
    }
   ],
   "source": [
    "train_processed = pre_process(train_data_raw)\n",
    "\n",
    "unit_sale = train_processed['unit_sales'].values.reshape(-1,1)\n",
    "train_processed.drop('unit_sales', axis = 1, inplace=True)"
   ]
  },
  {
   "cell_type": "markdown",
   "metadata": {},
   "source": [
    "Evaluation metric: Normalized Weighted Root Mean Squared Logarithmic Error (NWRMSLE)"
   ]
  },
  {
   "cell_type": "code",
   "execution_count": 8,
   "metadata": {
    "collapsed": true
   },
   "outputs": [],
   "source": [
    "from sklearn.metrics import make_scorer\n",
    "def nwrmsle(ground_truth, predictions, w):\n",
    "    nominator = 0\n",
    "    batch = 50000\n",
    "    n_batches = int(len(w)//batch)\n",
    "    for index in range(n_batches):\n",
    "        istart = index*batch; iend = (index+1)*batch\n",
    "        nominator += np.sum(w[istart:iend]*np.square(np.log1p(predictions[istart:iend]) - np.log1p(ground_truth[istart:iend])))\n",
    "    if n_batches * batch < len(w):\n",
    "        istart = n_batches * batch\n",
    "        nominator += np.sum(w[istart:]*np.square(np.log1p(predictions[istart:]) - np.log1p(ground_truth[istart:])))\n",
    "    return np.sqrt(nominator)/np.sum(w)\n",
    "\n",
    "nwrmsle_scorer = make_scorer(score_func=nwrmsle, greater_is_better=False, w = [])\n"
   ]
  },
  {
   "cell_type": "code",
   "execution_count": 9,
   "metadata": {},
   "outputs": [
    {
     "name": "stdout",
     "output_type": "stream",
     "text": [
      "Training set has 1315422 samples with 4290 variables.\n",
      "Testing set has 146159 samples.\n"
     ]
    }
   ],
   "source": [
    "from sklearn.model_selection import train_test_split\n",
    "\n",
    "X_train, X_test, y_train, y_test = train_test_split(train_processed, unit_sale, test_size = 0.1, random_state = 42)\n",
    "\n",
    "print(\"Training set has {} samples with {} variables.\".format(*X_train.shape))\n",
    "print(\"Testing set has {} samples.\".format(X_test.shape[0]))"
   ]
  },
  {
   "cell_type": "code",
   "execution_count": 10,
   "metadata": {
    "collapsed": true
   },
   "outputs": [],
   "source": [
    "def train_predict(learner, X_train, y_train, X_test, y_test,  sample_size=X_train.shape[0]):\n",
    "    results = dict()\n",
    "    start = time()\n",
    "    learner.fit(X_train[:sample_size], y_train[:sample_size])\n",
    "    results['train_time'] = time() - start\n",
    "    \n",
    "    start = time()\n",
    "    predictions_temp = learner.predict(X_test)\n",
    "    predictions = [x if x>=0 else 0 for x in predictions_temp]\n",
    "    results['test_time'] = time() - start\n",
    "    results['learner'] = learner\n",
    "    \n",
    "    w = X_test['perishable'].apply(lambda x: 1.25 if x else 1).values.ravel()\n",
    "    results['score'] = nwrmsle(y_test.flatten(), predictions, w = w)\n",
    "    return results"
   ]
  },
  {
   "cell_type": "markdown",
   "metadata": {},
   "source": [
    "## DecisionTreeRegressor"
   ]
  },
  {
   "cell_type": "code",
   "execution_count": 11,
   "metadata": {},
   "outputs": [
    {
     "name": "stdout",
     "output_type": "stream",
     "text": [
      "dict_items([('DecisionTreeRegressor', {0: {'train_time': 1218.2657670974731, 'test_time': 0.8543581962585449, 'learner': DecisionTreeRegressor(criterion='mse', max_depth=50, max_features=None,\n",
      "           max_leaf_nodes=None, min_impurity_decrease=0.0,\n",
      "           min_impurity_split=None, min_samples_leaf=1,\n",
      "           min_samples_split=2, min_weight_fraction_leaf=0.0,\n",
      "           presort=False, random_state=36, splitter='best'), 'score': 0.0018926331758773868}})])\n"
     ]
    }
   ],
   "source": [
    "from sklearn.tree import DecisionTreeRegressor\n",
    "from sklearn import linear_model\n",
    "from sklearn.ensemble import GradientBoostingRegressor\n",
    "\n",
    "samples_1 = int(len(y_train)*0.01)\n",
    "samples_10 = int(len(y_train)*0.1)\n",
    "samples_100 = len(y_train)\n",
    "\n",
    "regressor_A = DecisionTreeRegressor(random_state = 36, max_depth = 50)\n",
    "regressor_B = linear_model.LinearRegression()\n",
    "params = {'n_estimators': 500, 'max_depth': 4, 'min_samples_split':2, 'learning_rate': 0.01}\n",
    "regressor_C = GradientBoostingRegressor(**params)\n",
    "\n",
    "\n",
    "results = {}\n",
    "for regressor in [regressor_B]:\n",
    "    reg_name = regressor.__class__.__name__\n",
    "    results[reg_name] = {}\n",
    "    for i, samples in enumerate([samples_100]):\n",
    "        results[reg_name][i] = train_predict(regressor, X_train, y_train, X_test, y_test, samples)\n",
    "print(results.items())\n",
    "\n",
    "model = results['DecisionTreeRegressor'][0]['learner']\n",
    "filename = model.__class__.__name__ + '_20171111.sav'\n",
    "pickle.dump(model, open(filename, 'wb'))"
   ]
  },
  {
   "cell_type": "code",
   "execution_count": 12,
   "metadata": {},
   "outputs": [
    {
     "name": "stdout",
     "output_type": "stream",
     "text": [
      "There is no NaN before one-hot-encoding\n",
      "There is no NaN after one-hot-encoding\n",
      "False\n",
      "False\n",
      "0 batch is complete within 2163.1334824562073 seconds.\n",
      "There is no NaN before one-hot-encoding\n",
      "There is no NaN after one-hot-encoding\n",
      "False\n",
      "False\n",
      "1 batch is complete within 4341.765029907227 seconds.\n",
      "There is no NaN before one-hot-encoding\n",
      "There is no NaN after one-hot-encoding\n",
      "False\n",
      "False\n",
      "2 batch is complete within 6532.146698236465 seconds.\n",
      "There is no NaN before one-hot-encoding\n",
      "There is no NaN after one-hot-encoding\n",
      "False\n",
      "False\n",
      "3 batch is complete within 7117.059661149979 seconds.\n"
     ]
    }
   ],
   "source": [
    "filename = model.__class__.__name__ + '_20171111.sav'\n",
    "model = pickle.load(open(filename, 'rb'))\n",
    "predictions = []\n",
    "batch = 1000000\n",
    "n_items = test_data.shape[0]\n",
    "n_batches = int(n_items//batch) if n_items%batch==0 else int(n_items//batch)+1\n",
    "start = time()\n",
    "for index in range(n_batches):\n",
    "    istart = index*batch\n",
    "    iend = (index+1)*batch if (index+1)*batch < n_items else n_items\n",
    "    \n",
    "    test_one_hot_encoded = pre_process(test_data[istart:iend])\n",
    "    \n",
    "    test_processed = pd.DataFrame(0, index=range(istart-istart,iend-istart), columns=train_processed.columns, dtype=np.dtype('int8'))\n",
    "    test_processed[test_one_hot_encoded.columns] = test_one_hot_encoded\n",
    "    \n",
    "    prediction_part = model.predict(test_processed)\n",
    "    predictions += list(prediction_part.ravel())\n",
    "    print('{} batch is complete within {} seconds.'.format(index, time()-start))\n",
    "    "
   ]
  },
  {
   "cell_type": "code",
   "execution_count": 17,
   "metadata": {},
   "outputs": [
    {
     "data": {
      "text/html": [
       "<div>\n",
       "<style>\n",
       "    .dataframe thead tr:only-child th {\n",
       "        text-align: right;\n",
       "    }\n",
       "\n",
       "    .dataframe thead th {\n",
       "        text-align: left;\n",
       "    }\n",
       "\n",
       "    .dataframe tbody tr th {\n",
       "        vertical-align: top;\n",
       "    }\n",
       "</style>\n",
       "<table border=\"1\" class=\"dataframe\">\n",
       "  <thead>\n",
       "    <tr style=\"text-align: right;\">\n",
       "      <th></th>\n",
       "      <th>date</th>\n",
       "      <th>store_nbr</th>\n",
       "      <th>item_nbr</th>\n",
       "      <th>onpromotion</th>\n",
       "    </tr>\n",
       "  </thead>\n",
       "  <tbody>\n",
       "    <tr>\n",
       "      <th>0</th>\n",
       "      <td>2017-08-16</td>\n",
       "      <td>1</td>\n",
       "      <td>96995</td>\n",
       "      <td>0</td>\n",
       "    </tr>\n",
       "    <tr>\n",
       "      <th>1</th>\n",
       "      <td>2017-08-16</td>\n",
       "      <td>1</td>\n",
       "      <td>99197</td>\n",
       "      <td>0</td>\n",
       "    </tr>\n",
       "    <tr>\n",
       "      <th>2</th>\n",
       "      <td>2017-08-16</td>\n",
       "      <td>1</td>\n",
       "      <td>103501</td>\n",
       "      <td>0</td>\n",
       "    </tr>\n",
       "    <tr>\n",
       "      <th>3</th>\n",
       "      <td>2017-08-16</td>\n",
       "      <td>1</td>\n",
       "      <td>103520</td>\n",
       "      <td>0</td>\n",
       "    </tr>\n",
       "    <tr>\n",
       "      <th>4</th>\n",
       "      <td>2017-08-16</td>\n",
       "      <td>1</td>\n",
       "      <td>103665</td>\n",
       "      <td>0</td>\n",
       "    </tr>\n",
       "  </tbody>\n",
       "</table>\n",
       "</div>"
      ],
      "text/plain": [
       "        date  store_nbr  item_nbr  onpromotion\n",
       "0 2017-08-16          1     96995            0\n",
       "1 2017-08-16          1     99197            0\n",
       "2 2017-08-16          1    103501            0\n",
       "3 2017-08-16          1    103520            0\n",
       "4 2017-08-16          1    103665            0"
      ]
     },
     "metadata": {},
     "output_type": "display_data"
    }
   ],
   "source": [
    "display(test_data_raw.head(5))"
   ]
  },
  {
   "cell_type": "code",
   "execution_count": 18,
   "metadata": {},
   "outputs": [],
   "source": [
    "test_data_raw = pd.read_csv('input/test.csv', usecols=[0,1,2,3,4],parse_dates=['date'], dtype=types)\n",
    "test_data['unit_sales'] = [p if p >= 0 else 0 for p in predictions]\n",
    "test_result= pd.merge(test_data_raw, test_data, left_on=['date','store_nbr','item_nbr', 'onpromotion'],\n",
    "                      right_on=['date','store_nbr','item_nbr', 'onpromotion'],how='left')\n",
    "test_result.fillna(0)[['id', 'unit_sales']].to_csv(model.__class__.__name__ +'.csv', index=False, float_format='%.3f') "
   ]
  }
 ],
 "metadata": {
  "kernelspec": {
   "display_name": "Python 3",
   "language": "python",
   "name": "python3"
  },
  "language_info": {
   "codemirror_mode": {
    "name": "ipython",
    "version": 3
   },
   "file_extension": ".py",
   "mimetype": "text/x-python",
   "name": "python",
   "nbconvert_exporter": "python",
   "pygments_lexer": "ipython3",
   "version": "3.6.3"
  }
 },
 "nbformat": 4,
 "nbformat_minor": 2
}
